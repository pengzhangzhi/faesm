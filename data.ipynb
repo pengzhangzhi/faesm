{
 "cells": [
  {
   "cell_type": "code",
   "execution_count": null,
   "metadata": {},
   "outputs": [],
   "source": [
    "import torch\n",
    "from faesm.esmfold import FAEsmForProteinFolding\n",
    "device = 'cuda' if torch.cuda.is_available() else 'cpu'\n",
    "esmfold = FAEsmForProteinFolding.from_pretrained(\"facebook/esmfold_v1\")\n",
    "esmfold.esm.half()\n",
    "esmfold = esmfold.to(device).eval()"
   ]
  }
 ],
 "metadata": {
  "kernelspec": {
   "display_name": "torch",
   "language": "python",
   "name": "python3"
  },
  "language_info": {
   "name": "python",
   "version": "3.11.10"
  }
 },
 "nbformat": 4,
 "nbformat_minor": 2
}
